{
  "nbformat": 4,
  "nbformat_minor": 0,
  "metadata": {
    "colab": {
      "provenance": []
    },
    "kernelspec": {
      "name": "python3",
      "display_name": "Python 3"
    },
    "language_info": {
      "name": "python"
    }
  },
  "cells": [
    {
      "cell_type": "code",
      "execution_count": 2,
      "metadata": {
        "colab": {
          "base_uri": "https://localhost:8080/"
        },
        "id": "FSvNJGjkFm3n",
        "outputId": "d1064286-3071-424b-df0e-944c033724f4"
      },
      "outputs": [
        {
          "output_type": "stream",
          "name": "stdout",
          "text": [
            "soal 1: n^2 - n = n(n-1) selalu dapat dibagi habis oleh (n-1)?\n",
            "\n",
            "n      SisiKiri(n^2-n)      SisiKanan(n*(n-1))   Pembagi(n-1)   Pernyataan_Benar?           Catatan\n",
            "-5                  90                      90             -6                True                  \n",
            "-4                  90                      90             -5                True                  \n",
            "-3                  90                      90             -4                True                  \n",
            "-2                  90                      90             -3                True                  \n",
            "-1                  90                      90             -2                True                  \n",
            "1                   90                      90              0               False         pembagi 0\n",
            "2                   90                      90              1                True                  \n",
            "3                   90                      90              2                True                  \n",
            "4                   90                      90              3                True                  \n",
            "5                   90                      90              4                True                  \n",
            "6                   90                      90              5                True                  \n",
            "7                   90                      90              6                True                  \n",
            "8                   90                      90              7                True                  \n",
            "9                   90                      90              8                True                  \n",
            "10                  90                      90              9                True                  \n"
          ]
        }
      ],
      "source": [
        "print(\"soal 1: n^2 - n = n(n-1) selalu dapat dibagi habis oleh (n-1)?\")\n",
        "print()\n",
        "print(f\"{'n':<4}{'SisiKiri(n^2-n)':>18}{'SisiKanan(n*(n-1))':>24}{'Pembagi(n-1)':>15}{'Pernyataan_Benar?':>20}{'Catatan':>18}\")\n",
        "\n",
        "for n in range(-5, 11):\n",
        "    if n == 0:\n",
        "        continue\n",
        "    siri  = n*n - n\n",
        "    sinan = n*(n-1)\n",
        "    pembagi    = n - 1\n",
        "\n",
        "    if pembagi == 0:\n",
        "        pernyataan_benar = False\n",
        "        catatan = \"pembagi 0\"\n",
        "    else:\n",
        "        pernyataan_benar = (siri % pembagi == 0)\n",
        "        catatan = \"\"\n",
        "\n",
        "    print(f\"{n:<4}{sisi_kiri:>18}{sisi_kanan:>24}{pembagi:>15}{str(pernyataan_benar):>20}{catatan:>18}\")\n"
      ]
    },
    {
      "cell_type": "markdown",
      "source": [
        "untuk semua n selian n=1 pertanyaan benar. n*2 - n dapat dibagi habis oleh n-1\n",
        "untuk n = 1 , muncul kasus khusus pembagi = 0 , pembagian ini tidak terdefinisi sehinggah pernyataan tidak berlaku.\n",
        "\n",
        "pernyataan n*2 - n sellau habis dibagi oleh n-1 benar untuk smeua bilangan buat kecuali n=1"
      ],
      "metadata": {
        "id": "ZqoU42CiFbM2"
      }
    },
    {
      "cell_type": "code",
      "source": [
        "print(\"Soal 2: 1 + 1/2 + ... + 1/n < 2 ?\")\n",
        "print()\n",
        "print(f\"{'n':<4}{'Jumlah_Deret':>15}{'Status':>12}\")\n",
        "\n",
        "jumlah = 0.0\n",
        "n_max = 20\n",
        "first_ge2_n = None\n",
        "first_ge2_val = None\n",
        "\n",
        "for n in range(1, n_max + 1):\n",
        "    jumlah += 1/n\n",
        "    status = \"<2\" if jumlah < 2 else \">=2\"\n",
        "    print(f\"{n:<4}{jumlah:>15.3f}{status:>12}\")\n",
        "    if first_ge2_n is None and jumlah >= 2:\n",
        "        first_ge2_n = n\n",
        "        first_ge2_val = jumlah\n",
        "\n",
        "if first_ge2_n is not None:\n",
        "    print(f\"\\nDeret pertama kali >= 2 pada n = {first_ge2_n}, total ≈ {first_ge2_val:.3f}\")\n",
        "else:\n",
        "    print(f\"\\nBelum mencapai 2 hingga n = {n_max}\")\n",
        ""
      ],
      "metadata": {
        "colab": {
          "base_uri": "https://localhost:8080/"
        },
        "id": "joA7ZdMNE0IV",
        "outputId": "84311ee2-ac71-4c96-f1d5-ae3934f55232"
      },
      "execution_count": 3,
      "outputs": [
        {
          "output_type": "stream",
          "name": "stdout",
          "text": [
            "Soal 2: 1 + 1/2 + ... + 1/n < 2 ?\n",
            "\n",
            "n      Jumlah_Deret      Status\n",
            "1             1.000          <2\n",
            "2             1.500          <2\n",
            "3             1.833          <2\n",
            "4             2.083         >=2\n",
            "5             2.283         >=2\n",
            "6             2.450         >=2\n",
            "7             2.593         >=2\n",
            "8             2.718         >=2\n",
            "9             2.829         >=2\n",
            "10            2.929         >=2\n",
            "11            3.020         >=2\n",
            "12            3.103         >=2\n",
            "13            3.180         >=2\n",
            "14            3.252         >=2\n",
            "15            3.318         >=2\n",
            "16            3.381         >=2\n",
            "17            3.440         >=2\n",
            "18            3.495         >=2\n",
            "19            3.548         >=2\n",
            "20            3.598         >=2\n",
            "\n",
            "Deret pertama kali >= 2 pada n = 4, total ≈ 2.083\n"
          ]
        }
      ]
    },
    {
      "cell_type": "markdown",
      "source": [
        "Untuk n = 1,2,3 jumlah deret masih <2\n",
        "sedangkan nilai n mulai n = 4 sudah >= 2\n",
        "maka pernyataan deret harmonik selalu < 2 ( salah)\n",
        "Deret harmonik tidak terbatas (divergen). Pada\n",
        "n=4, jumlahnya pertama kali melebihi 2, dan terus membesar seiring\n",
        "n bertambah."
      ],
      "metadata": {
        "id": "RJhIf3S9LDj2"
      }
    }
  ]
}