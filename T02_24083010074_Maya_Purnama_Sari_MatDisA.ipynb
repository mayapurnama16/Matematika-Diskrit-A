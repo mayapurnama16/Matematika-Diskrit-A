{
  "nbformat": 4,
  "nbformat_minor": 0,
  "metadata": {
    "colab": {
      "provenance": []
    },
    "kernelspec": {
      "name": "python3",
      "display_name": "Python 3"
    },
    "language_info": {
      "name": "python"
    }
  },
  "cells": [
    {
      "cell_type": "code",
      "source": [
        "#Maya Purnama Sari\n",
        "#24083010074\n",
        "#Matematika Diskrit A"
      ],
      "metadata": {
        "id": "U4Q_eCfIREV6"
      },
      "execution_count": null,
      "outputs": []
    },
    {
      "cell_type": "markdown",
      "source": [
        "#NO 3"
      ],
      "metadata": {
        "id": "htBXxnBIN7Sz"
      }
    },
    {
      "cell_type": "code",
      "source": [
        "def check_statement3(n):\n",
        "    if n >= 0:\n",
        "        pki = sum(i**2 for i in range(1, n+1))\n",
        "        pka = n*(n+1)*(2*n+1)//6\n",
        "        return pki == pka, pki, pka\n",
        "    else:\n",
        "        return \"n harus >= 0\"\n",
        "\n",
        "for n in range(0, 8):\n",
        "    valid, pki, pka = check_statement3(n)\n",
        "    print(f\"n={n}: {pki} == {pka} → {valid}\")\n"
      ],
      "metadata": {
        "colab": {
          "base_uri": "https://localhost:8080/"
        },
        "id": "yL4K7cExMUt_",
        "outputId": "823e2144-5cb9-4b3b-a3e6-a296500ffcbf"
      },
      "execution_count": 8,
      "outputs": [
        {
          "output_type": "stream",
          "name": "stdout",
          "text": [
            "n=0: 0 == 0 → True\n",
            "n=1: 1 == 1 → True\n",
            "n=2: 5 == 5 → True\n",
            "n=3: 14 == 14 → True\n",
            "n=4: 30 == 30 → True\n",
            "n=5: 55 == 55 → True\n",
            "n=6: 91 == 91 → True\n",
            "n=7: 140 == 140 → True\n"
          ]
        }
      ]
    },
    {
      "cell_type": "markdown",
      "source": [
        "penjelasan setiap baris\n",
        "untuk :\n",
        "1.   def chek_statement3(n): untuk mendefinisikan fungsi bernama chekchek_statement3 dengan parameter n\n",
        "2.   if n>= 0: karena nilai n harus lebih dari 0\n",
        "3. pki (persamaan sisi kiri) : code ini digunakan untuk mengetahui persamaan pada sisi kiri , sebagai jumlah kuadrat pada sisi kiri\n",
        "4. pka ( persamaan sisi kanan) : code ini digunakan untuk perasaan sisi kanan beriri rumus\n",
        "5.  return pki == pka, pki, pka : digunakan untuk melihat true/false pada peramaan\n",
        "6. return \"n harus >= 0\" : kalau n nya negatif maka akan langsung mengeluarkan hasil tidak valid\n",
        "\n",
        "\n",
        "---\n",
        "\n",
        "\n",
        "saya menggunakan range dari 3 sampai 8 dan hasilnya semuanya true\n",
        "\n",
        "\n",
        "\n",
        "\n",
        "\n",
        "\n",
        "\n",
        "\n"
      ],
      "metadata": {
        "id": "LFzOUwnNNoaM"
      }
    },
    {
      "cell_type": "markdown",
      "source": [
        "#NO 5"
      ],
      "metadata": {
        "id": "Z9KlwbqtQ8ho"
      }
    },
    {
      "cell_type": "code",
      "source": [
        "def check_statement5(n):\n",
        "    pki = 2**n\n",
        "    pka = n**2\n",
        "    return pki > pka, pki, pka\n",
        "\n",
        "# Contoh cek beberapa n (termasuk negatif, nol, positif)\n",
        "for n in range(-3, 16):\n",
        "    valid, pki, pka = check_statement5(n)\n",
        "    print(f\"n={n}: 2^{n}={pki}, n^2={pka} → {valid}\")\n"
      ],
      "metadata": {
        "colab": {
          "base_uri": "https://localhost:8080/"
        },
        "id": "ORcLKSJUM4qS",
        "outputId": "0bb2d779-e1ee-431f-ae2b-e0ddf32477b2"
      },
      "execution_count": 9,
      "outputs": [
        {
          "output_type": "stream",
          "name": "stdout",
          "text": [
            "n=-3: 2^-3=0.125, n^2=9 → False\n",
            "n=-2: 2^-2=0.25, n^2=4 → False\n",
            "n=-1: 2^-1=0.5, n^2=1 → False\n",
            "n=0: 2^0=1, n^2=0 → True\n",
            "n=1: 2^1=2, n^2=1 → True\n",
            "n=2: 2^2=4, n^2=4 → False\n",
            "n=3: 2^3=8, n^2=9 → False\n",
            "n=4: 2^4=16, n^2=16 → False\n",
            "n=5: 2^5=32, n^2=25 → True\n",
            "n=6: 2^6=64, n^2=36 → True\n",
            "n=7: 2^7=128, n^2=49 → True\n",
            "n=8: 2^8=256, n^2=64 → True\n",
            "n=9: 2^9=512, n^2=81 → True\n",
            "n=10: 2^10=1024, n^2=100 → True\n",
            "n=11: 2^11=2048, n^2=121 → True\n",
            "n=12: 2^12=4096, n^2=144 → True\n",
            "n=13: 2^13=8192, n^2=169 → True\n",
            "n=14: 2^14=16384, n^2=196 → True\n",
            "n=15: 2^15=32768, n^2=225 → True\n"
          ]
        }
      ]
    },
    {
      "cell_type": "markdown",
      "source": [
        "penjelasan setiap baris untuk :\n",
        "\n",
        "def chek_statement5 (n): untuk mendefinisikan fungsi bernama chekchek_statement5 dengan parameter n\n",
        "pki (persamaan sisi kiri) : code ini digunakan untuk mengetahui persamaan pada sisi kiri , untuk menghitung nilai 2 pangkat n\n",
        "pka ( persamaan sisi kanan) : code ini digunakan untuk persamaan sisi kanan , untuk menghitung nilan kuadrat\n",
        "return pki > pka, pki, pka: digunakan untuk\n",
        " pki > pka true / false apakah 2 pangkat n > n kuadrat\n",
        " pki nilai 2 pangkat n\n",
        " pka nilai n kuadrat\n",
        "\n",
        "---\n",
        "\n",
        "\n",
        "saya menggunakan range dari -3 sampai 16 karena tidak ada nilai khusus bagi n"
      ],
      "metadata": {
        "id": "QrPMydwNPuxA"
      }
    }
  ]
}